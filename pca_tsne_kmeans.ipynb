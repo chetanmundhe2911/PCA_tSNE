import pandas as pd
from sklearn.preprocessing import StandardScaler
from sklearn.decomposition import PCA
from sklearn.manifold import TSNE
from sklearn.cluster import KMeans
import matplotlib.pyplot as plt
import matplotlib.cm as cm

# Load the dataset
file_path = '/home/ec2-user/python/modeltraining/pca/train.csv'
dataset = pd.read_csv(file_path)

# Step 1: Preprocess the Data
# Apply one-hot encoding to categorical columns
encoded_data = pd.get_dummies(dataset, columns=['X0', 'X1', 'X2', 'X3', 'X4', 'X5', 'X6', 'X8'])

# Separate the target variable 'y' and features
y = dataset['y']
X = encoded_data.drop(columns=['y'])

# Standardize the features
scaler = StandardScaler()
scaled_data = scaler.fit_transform(X)

# Optional: Use PCA for initial dimensionality reduction
pca = PCA(n_components=204)
pca_data = pca.fit_transform(scaled_data)

# Step 2: Apply t-SNE
tsne = TSNE(n_components=2, perplexity=30, learning_rate=200, n_iter=10000)
tsne_result = tsne.fit_transform(pca_data)

# Step 3: Apply KMeans clustering to identify clusters in t-SNE results
kmeans = KMeans(n_clusters=5, random_state=42)  # Assuming 5 clusters
cluster_labels = kmeans.fit_predict(tsne_result)

# Visualize the t-SNE plot with clusters
plt.figure(figsize=(10, 8))
sc = plt.scatter(tsne_result[:, 0], tsne_result[:, 1], c=cluster_labels, cmap='viridis')
plt.colorbar(sc)
plt.title("t-SNE plot of Mercedes-Benz dataset with Clusters")
plt.xlabel("t-SNE Component 1")
plt.ylabel("t-SNE Component 2")
plt.show()

# Step 4: Analyze the features within each cluster
dataset['Cluster'] = cluster_labels  # Add cluster labels to the dataset

# Filter numeric columns for mean calculation
numeric_columns = dataset.select_dtypes(include=['number']).columns

# For each cluster, get the mean values of the numeric features
cluster_feature_means = dataset.groupby('Cluster')[numeric_columns].mean()

print("Mean values of features within each cluster:")
print(cluster_feature_means)

# Optionally, you can inspect the most important features for each cluster:
# For each cluster, list the features that contribute most to the cluster.
for cluster in range(5):  # Assuming 5 clusters
    cluster_data = dataset[dataset['Cluster'] == cluster]
    print(f"\nCluster {cluster} analysis:")
    print(cluster_data[numeric_columns].describe())  # Descriptive stats for numeric features
